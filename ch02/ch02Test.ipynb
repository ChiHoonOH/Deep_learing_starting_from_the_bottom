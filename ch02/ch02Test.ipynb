{
 "cells": [
  {
   "cell_type": "code",
   "execution_count": null,
   "metadata": {},
   "outputs": [],
   "source": [
    "import sys\n",
    "sys.path.append('..')\n",
    "\n",
    "from common.util import preprocess, create_co_matrix, cos_similarity\n",
    "\n",
    "text = 'You say goodbye and I say hello'\n",
    "corpus, word_to_id, id_to_word = preprocess(text)\n",
    "\n",
    "print('courpus...',corpus)\n",
    "print('word_to_id....',word_to_id)\n",
    "print('id_to_word....',id_to_word)"
   ]
  },
  {
   "cell_type": "code",
   "execution_count": 1,
   "metadata": {},
   "outputs": [
    {
     "name": "stdout",
     "output_type": "stream",
     "text": [
      "corpus: [[0]\n",
      " [1]\n",
      " [2]\n",
      " [3]\n",
      " [4]\n",
      " [1]\n",
      " [5]\n",
      " [6]]\n",
      "{'you': 0, 'say': 1, 'goodbye': 2, 'and': 3, 'i': 4, 'hello': 5, '.': 6}\n",
      "{0: 'you', 1: 'say', 2: 'goodbye', 3: 'and', 4: 'i', 5: 'hello', 6: '.'}\n"
     ]
    },
    {
     "ename": "ImportError",
     "evalue": "cannot import name 'create_co_matrix' from 'common.util' (..\\common\\util.py)",
     "output_type": "error",
     "traceback": [
      "\u001b[1;31m---------------------------------------------------------------------------\u001b[0m",
      "\u001b[1;31mImportError\u001b[0m                               Traceback (most recent call last)",
      "\u001b[1;32m<ipython-input-1-07dd948f859a>\u001b[0m in \u001b[0;36m<module>\u001b[1;34m\u001b[0m\n\u001b[0;32m      2\u001b[0m \u001b[0msys\u001b[0m\u001b[1;33m.\u001b[0m\u001b[0mpath\u001b[0m\u001b[1;33m.\u001b[0m\u001b[0mappend\u001b[0m\u001b[1;33m(\u001b[0m\u001b[1;34m'..'\u001b[0m\u001b[1;33m)\u001b[0m\u001b[1;33m\u001b[0m\u001b[1;33m\u001b[0m\u001b[0m\n\u001b[0;32m      3\u001b[0m \u001b[1;33m\u001b[0m\u001b[0m\n\u001b[1;32m----> 4\u001b[1;33m \u001b[1;32mfrom\u001b[0m \u001b[0mcommon\u001b[0m\u001b[1;33m.\u001b[0m\u001b[0mutil\u001b[0m \u001b[1;32mimport\u001b[0m \u001b[0mpreprocess\u001b[0m\u001b[1;33m,\u001b[0m \u001b[0mcreate_co_matrix\u001b[0m\u001b[1;33m,\u001b[0m \u001b[0mcos_similarity\u001b[0m\u001b[1;33m\u001b[0m\u001b[1;33m\u001b[0m\u001b[0m\n\u001b[0m\u001b[0;32m      5\u001b[0m \u001b[1;33m\u001b[0m\u001b[0m\n\u001b[0;32m      6\u001b[0m \u001b[0mtext\u001b[0m \u001b[1;33m=\u001b[0m \u001b[1;34m'You say goodbye and I say hello'\u001b[0m\u001b[1;33m\u001b[0m\u001b[1;33m\u001b[0m\u001b[0m\n",
      "\u001b[1;31mImportError\u001b[0m: cannot import name 'create_co_matrix' from 'common.util' (..\\common\\util.py)"
     ]
    }
   ],
   "source": [
    "vocab_size = len(word_to_id)\n",
    "C = create_co_matrix(corpus, vocab_size)"
   ]
  },
  {
   "cell_type": "code",
   "execution_count": null,
   "metadata": {},
   "outputs": [],
   "source": [
    "def most_similarity(standard_word, word_to_id, id_to_word, word_matrix, top=5):\n",
    "    '''\n",
    "    내 예상 : 단어 간의 모든 유사도를 구한 후에 정렬\n",
    "    '''\n",
    "    if standard_word in word_to_id:\n",
    "                '''    \n",
    "        a = {'바보':1,'호구':2}\n",
    "        print([element for element in a])\n",
    "        key 값만 나온다.\n",
    "        '''\n",
    "        print('찾을 수 없는 단어입니다.')\n",
    "        return \n",
    "    query_id = word_to_id[standard_word]\n",
    "    query_vec = word_matrix[query_id]\n",
    "    # 모든 단어와 유사도 계산\n",
    "    # Ordereddict를 사용 햇을 것 같다. \n",
    "    # 근데 ordereddict는 입력순서를 유지 한다. 값 기준으로 유지되는 collection은 아니다.\n",
    "    similarity_dict ={}\n",
    "    for i in id_to_word:\n",
    "        similarity_dict[id_to_word[i]] = cos_similarity(query_vec,word_matrix[i])\n",
    "        \n",
    "        \n",
    "    similarity = np.zeros(vocab_size)    \n",
    "    for i in range(vocab_size):\n",
    "        similarity[i] = cos_similarity(word_matrix[i], query_vec)\n",
    "        \n",
    "    for i in (-1 * similarity).argsort(): # argsort() 각 원소들의 순위 반환\n",
    "        if id_to_word[i] == standard_word:\n",
    "            continue\n",
    "        print('%s:%s' % (id_to_word[i], similarity[i]))\n",
    "        \n",
    "        count+=1\n",
    "        \n",
    "        if count >= top:\n",
    "            return\n",
    "        \n",
    "        \n",
    "        "
   ]
  }
 ],
 "metadata": {
  "kernelspec": {
   "display_name": "Python 3",
   "language": "python",
   "name": "python3"
  },
  "language_info": {
   "codemirror_mode": {
    "name": "ipython",
    "version": 3
   },
   "file_extension": ".py",
   "mimetype": "text/x-python",
   "name": "python",
   "nbconvert_exporter": "python",
   "pygments_lexer": "ipython3",
   "version": "3.7.3"
  }
 },
 "nbformat": 4,
 "nbformat_minor": 2
}

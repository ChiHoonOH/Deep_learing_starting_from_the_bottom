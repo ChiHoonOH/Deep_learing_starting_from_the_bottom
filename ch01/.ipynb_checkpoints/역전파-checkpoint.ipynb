{
 "cells": [
  {
   "cell_type": "markdown",
   "metadata": {},
   "source": [
    "# 역전파"
   ]
  },
  {
   "cell_type": "markdown",
   "metadata": {},
   "source": [
    "\\begin{align}\n",
    "z = x+y    \\\\\n",
    "dL/dz = dL/dx + dL/dy  \n",
    "\\end{align}"
   ]
  },
  {
   "cell_type": "markdown",
   "metadata": {},
   "source": [
    "\\begin{equation*}\n",
    "z = x+y    \\\\\n",
    "dL/dz = dL/dx + dL/dy\\\\\n",
    "\\frac{\\partial L}{\\partial x}\n",
    "\\end{equation*}"
   ]
  },
  {
   "cell_type": "markdown",
   "metadata": {},
   "source": [
    "\\begin{equation*}\n",
    "z = x+y\\\\\n",
    "\\frac{\\partial L}{\\partial z} = \\frac{\\partial L}{\\partial x}+\\frac{\\partial L}{\\partial y}\n",
    "\\end{equation*}"
   ]
  },
  {
   "cell_type": "markdown",
   "metadata": {},
   "source": [
    "# 그래프를 쓰는 이유는 무엇인가? -> 이해가 쉽다는데 동의못하겠다\n",
    "# 뒤돌아서 미분을 해주는 이유는 무엇인가?\n",
    "# 역전파가 성립할 수 있는 이유는 무엇인가?"
   ]
  },
  {
   "cell_type": "markdown",
   "metadata": {},
   "source": [
    "## 순전파와 역전파 이미지(repeat 노드, sum 노드)\n",
    "<img src = './img/순전파와_역전파.jpg' style=\"transform: rotate(270deg);\">  "
   ]
  },
  {
   "cell_type": "code",
   "execution_count": 4,
   "metadata": {},
   "outputs": [],
   "source": [
    "import numpy as np"
   ]
  },
  {
   "cell_type": "code",
   "execution_count": 5,
   "metadata": {},
   "outputs": [],
   "source": [
    "D, N = 8, 7\n",
    "x = np.random.randn(1,D)"
   ]
  },
  {
   "cell_type": "code",
   "execution_count": 8,
   "metadata": {},
   "outputs": [
    {
     "data": {
      "text/plain": [
       "array([[ 0.14313535, -1.82790524, -0.07147578,  0.49407003, -0.6082377 ,\n",
       "         0.15688175, -0.15593043,  0.52115775]])"
      ]
     },
     "execution_count": 8,
     "metadata": {},
     "output_type": "execute_result"
    }
   ],
   "source": [
    "# 순전파\n",
    "x"
   ]
  },
  {
   "cell_type": "code",
   "execution_count": 9,
   "metadata": {},
   "outputs": [
    {
     "data": {
      "text/plain": [
       "(1, 8)"
      ]
     },
     "execution_count": 9,
     "metadata": {},
     "output_type": "execute_result"
    }
   ],
   "source": [
    "x.shape"
   ]
  },
  {
   "cell_type": "markdown",
   "metadata": {},
   "source": [
    "### 가장 안에 있는 값의 axis 값이 가장 높다."
   ]
  },
  {
   "cell_type": "code",
   "execution_count": 10,
   "metadata": {},
   "outputs": [],
   "source": [
    "y = np.repeat(x, N, axis=0)"
   ]
  },
  {
   "cell_type": "code",
   "execution_count": 11,
   "metadata": {},
   "outputs": [
    {
     "data": {
      "text/plain": [
       "array([[ 0.14313535, -1.82790524, -0.07147578,  0.49407003, -0.6082377 ,\n",
       "         0.15688175, -0.15593043,  0.52115775],\n",
       "       [ 0.14313535, -1.82790524, -0.07147578,  0.49407003, -0.6082377 ,\n",
       "         0.15688175, -0.15593043,  0.52115775],\n",
       "       [ 0.14313535, -1.82790524, -0.07147578,  0.49407003, -0.6082377 ,\n",
       "         0.15688175, -0.15593043,  0.52115775],\n",
       "       [ 0.14313535, -1.82790524, -0.07147578,  0.49407003, -0.6082377 ,\n",
       "         0.15688175, -0.15593043,  0.52115775],\n",
       "       [ 0.14313535, -1.82790524, -0.07147578,  0.49407003, -0.6082377 ,\n",
       "         0.15688175, -0.15593043,  0.52115775],\n",
       "       [ 0.14313535, -1.82790524, -0.07147578,  0.49407003, -0.6082377 ,\n",
       "         0.15688175, -0.15593043,  0.52115775],\n",
       "       [ 0.14313535, -1.82790524, -0.07147578,  0.49407003, -0.6082377 ,\n",
       "         0.15688175, -0.15593043,  0.52115775]])"
      ]
     },
     "execution_count": 11,
     "metadata": {},
     "output_type": "execute_result"
    }
   ],
   "source": [
    "# 역전파\n",
    "y"
   ]
  },
  {
   "cell_type": "code",
   "execution_count": 12,
   "metadata": {},
   "outputs": [],
   "source": [
    "dy = np.random.randn(N,D)\n",
    "dx = np.sum(dy,axis=0, keepdims=True) # 이 경우 현재 2차원인데 sum에 1차원으로 바뀌는걸 방지해줌"
   ]
  },
  {
   "cell_type": "code",
   "execution_count": 13,
   "metadata": {},
   "outputs": [
    {
     "data": {
      "text/plain": [
       "array([[-0.03690416, -1.07348377,  1.53248853, -1.55159005, -1.05772279,\n",
       "         1.16495467, -1.45232343, -0.62277826],\n",
       "       [-0.3067787 , -0.55467721, -0.44574984, -1.25460317,  0.26006134,\n",
       "        -1.19124347,  1.01115503,  0.89999607],\n",
       "       [ 1.4464099 , -2.28777549, -0.04253434,  1.22084919, -0.16720077,\n",
       "        -0.28013026,  0.16358892,  1.35773292],\n",
       "       [-0.78873084,  0.52959038, -0.36670594,  1.56158961, -0.80361708,\n",
       "         0.53708323,  0.40209555, -1.07631153],\n",
       "       [-2.28765259, -1.12955751, -0.51285947,  1.11431198,  0.73071438,\n",
       "        -1.12734188, -0.01844683,  0.98616778],\n",
       "       [ 0.14914817,  0.54558597,  0.62865654,  0.52633198, -0.36466838,\n",
       "        -1.6566054 , -1.00300918, -0.16466118],\n",
       "       [-1.14595401,  0.99851868,  0.09619565, -0.23566755,  1.34272305,\n",
       "         0.29696397, -1.45024624,  0.3045113 ]])"
      ]
     },
     "execution_count": 13,
     "metadata": {},
     "output_type": "execute_result"
    }
   ],
   "source": [
    "dy"
   ]
  },
  {
   "cell_type": "code",
   "execution_count": 14,
   "metadata": {},
   "outputs": [
    {
     "data": {
      "text/plain": [
       "array([[-2.97046223, -2.97179895,  0.88949113,  1.38122198, -0.05971026,\n",
       "        -2.25631914, -2.34718619,  1.68465709]])"
      ]
     },
     "execution_count": 14,
     "metadata": {},
     "output_type": "execute_result"
    }
   ],
   "source": [
    "dx"
   ]
  },
  {
   "cell_type": "markdown",
   "metadata": {},
   "source": [
    "#### 순방향\n",
    "y = x matmul W\n",
    "#### 역방향\n",
    "\\begin{equation*}\n",
    "\n",
    "\\end{equation*}"
   ]
  },
  {
   "cell_type": "code",
   "execution_count": null,
   "metadata": {},
   "outputs": [],
   "source": []
  }
 ],
 "metadata": {
  "kernelspec": {
   "display_name": "Python 3",
   "language": "python",
   "name": "python3"
  },
  "language_info": {
   "codemirror_mode": {
    "name": "ipython",
    "version": 3
   },
   "file_extension": ".py",
   "mimetype": "text/x-python",
   "name": "python",
   "nbconvert_exporter": "python",
   "pygments_lexer": "ipython3",
   "version": "3.7.3"
  }
 },
 "nbformat": 4,
 "nbformat_minor": 2
}
